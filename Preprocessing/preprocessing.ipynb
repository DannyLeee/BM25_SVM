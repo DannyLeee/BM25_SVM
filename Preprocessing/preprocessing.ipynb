{
 "metadata": {
  "language_info": {
   "codemirror_mode": {
    "name": "ipython",
    "version": 3
   },
   "file_extension": ".py",
   "mimetype": "text/x-python",
   "name": "python",
   "nbconvert_exporter": "python",
   "pygments_lexer": "ipython3",
   "version": "3.8.3-final"
  },
  "orig_nbformat": 2,
  "kernelspec": {
   "name": "python3",
   "display_name": "Python 3",
   "language": "python"
  }
 },
 "nbformat": 4,
 "nbformat_minor": 2,
 "cells": [
  {
   "cell_type": "code",
   "execution_count": 1,
   "metadata": {},
   "outputs": [
    {
     "output_type": "stream",
     "name": "stderr",
     "text": [
      "[nltk_data] Downloading package stopwords to\n[nltk_data]     C:\\Users\\wen19\\AppData\\Roaming\\nltk_data...\n[nltk_data]   Package stopwords is already up-to-date!\n"
     ]
    }
   ],
   "source": [
    "import pandas as pd\n",
    "import numpy as np\n",
    "import pickle\n",
    "from collections import Counter\n",
    "import nltk\n",
    "nltk.download('stopwords')\n",
    "from nltk.corpus import stopwords\n",
    "path = '../dataset/'"
   ]
  },
  {
   "cell_type": "code",
   "execution_count": 23,
   "metadata": {},
   "outputs": [],
   "source": [
    "doc_df = pd.read_csv(path + 'documents.csv')\n",
    "doc_dict = dict()\n",
    "# Fill nan(float) as none(str)\n",
    "doc_df = doc_df.fillna('')\n",
    "Languages = list(stopwords.fileids())"
   ]
  },
  {
   "cell_type": "code",
   "execution_count": 25,
   "metadata": {
    "tags": []
   },
   "outputs": [],
   "source": [
    "# Build remove terms\n",
    "remove_title = ['[Text]', 'Language:', '<F P=105>', '</F>', 'Article Type:BFN', '<F P=106>', 'Article Type:CSO', '[Excerpt]', '[Editorial Report]', '[passage omitted]', 'ONLY <F P=103>', '<F P=104>']\n",
    "remove_term = ['.', '\"', '--', '\\'s', '<', '>', '[', ']', '`', ',', ':', '/', '\\\\', '{', '}', '-', '(', ')']\n",
    "# Build dictionary\n",
    "for doc in doc_df.iloc:\n",
    "    temp_str = doc['doc_text']\n",
    "    # Choosing the fileids of stopwords, initial:english\n",
    "    Lang_tmp = 'english'\n",
    "    Lang_flag = False\n",
    "    if('Language: <F P=105>' in temp_str):\n",
    "        Lang_flag = True\n",
    "        Lang_tmp = temp_str.split('Language: <F P=105>')[1].split()[0]\n",
    "        if(not(Lang_tmp.lower() in Languages)):\n",
    "            Lang_flag = False\n",
    "    # Removing meaningless words\n",
    "    for t in remove_title:\n",
    "        if(t in temp_str):\n",
    "            temp_str = temp_str.replace(t, '')\n",
    "    for w in remove_term:\n",
    "        if(w in temp_str):\n",
    "            temp_str = temp_str.replace(w, '')\n",
    "    # Removing stopwords\n",
    "    temp = Counter(temp_str.split())\n",
    "    if(Lang_flag):\n",
    "        # stopwords with origin and capitalize form\n",
    "        for s in stopwords.words(Lang_tmp.lower()):\n",
    "            if(s in temp):\n",
    "                del temp[s]\n",
    "            if(s.capitalize() in temp):\n",
    "                del temp[s.capitalize()]\n",
    "    # Save to dict    \n",
    "    doc_dict[doc['doc_id']] = temp"
   ]
  },
  {
   "cell_type": "code",
   "execution_count": 27,
   "metadata": {},
   "outputs": [],
   "source": [
    "# File output\n",
    "pickle_out = open('../data/document.pickle', 'wb')\n",
    "pickle.dump(doc_dict, pickle_out)\n",
    "pickle_out.close()"
   ]
  }
 ]
}