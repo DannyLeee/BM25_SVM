{
 "metadata": {
  "language_info": {
   "codemirror_mode": {
    "name": "ipython",
    "version": 3
   },
   "file_extension": ".py",
   "mimetype": "text/x-python",
   "name": "python",
   "nbconvert_exporter": "python",
   "pygments_lexer": "ipython3",
   "version": "3.8.3-final"
  },
  "orig_nbformat": 2,
  "kernelspec": {
   "name": "python3",
   "display_name": "Python 3",
   "language": "python"
  }
 },
 "nbformat": 4,
 "nbformat_minor": 2,
 "cells": [
  {
   "cell_type": "code",
   "execution_count": 1,
   "metadata": {},
   "outputs": [],
   "source": [
    "import pandas as pd\n",
    "import numpy as np\n",
    "import pickle\n",
    "from collections import Counter\n",
    "path = 'dataset/'"
   ]
  },
  {
   "cell_type": "code",
   "execution_count": 2,
   "metadata": {},
   "outputs": [],
   "source": [
    "doc_df = pd.read_csv(path + 'documents.csv')\n",
    "doc_dict = dict()\n",
    "# Fill nan(float) as none(str)\n",
    "doc_df = doc_df.fillna('')"
   ]
  },
  {
   "cell_type": "code",
   "execution_count": 3,
   "metadata": {},
   "outputs": [],
   "source": [
    "# Build remove terms\n",
    "remove_title = ['[Text]', 'Language: <F P=105>', '</F>', 'Article Type:BFN', '<F P=106>', 'Article Type:CSO', '[Excerpt]', '[Editorial Report]', '[passage omitted]']\n",
    "remove_term = ['.', '\"', '--', '\\'s', '<', '>', '[', ']', '`', ',', ':', '/', '\\\\', '{', '}']\n",
    "# Build dictionary\n",
    "for doc in doc_df.iloc:\n",
    "    temp_str = doc['doc_text']\n",
    "    for t in remove_title:\n",
    "        if(t in temp_str):\n",
    "            temp_str = temp_str.replace(t, '')\n",
    "    for w in remove_term:\n",
    "        if(w in temp_str):\n",
    "            temp_str = temp_str.replace(w, '')\n",
    "    temp = Counter(temp_str.split())\n",
    "    doc_dict[doc['doc_id']] = temp"
   ]
  },
  {
   "cell_type": "code",
   "execution_count": 4,
   "metadata": {},
   "outputs": [],
   "source": [
    "# File output\n",
    "pickle_out = open('./data/document.pickle', 'wb')\n",
    "pickle.dump(doc_dict, pickle_out)\n",
    "pickle_out.close()"
   ]
  }
 ]
}